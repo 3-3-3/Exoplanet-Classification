{
 "cells": [
  {
   "cell_type": "code",
   "execution_count": 110,
   "metadata": {},
   "outputs": [
    {
     "name": "stdout",
     "output_type": "stream",
     "text": [
      "fits_dir exists\n",
      "image_dir exists\n",
      "2000\n",
      "https://data.sdss.org/sas/dr14/apogee/spectro/redux/r8/stars/apo25m/2000/apStar-r8-2M17101587+3415217-57169.fits\n",
      "2095\n",
      "https://data.sdss.org/sas/dr14/apogee/spectro/redux/r8/stars/apo25m/2095/apStarLSF-r8-2M03451505+0012399.fits\n",
      "2190\n",
      "DNE: 404\n",
      "2285\n",
      "https://data.sdss.org/sas/dr14/apogee/spectro/redux/r8/stars/apo25m/2285/apStar-r8-2M07492900+5023111.fits\n",
      "2380\n",
      "https://data.sdss.org/sas/dr14/apogee/spectro/redux/r8/stars/apo25m/2380/apStar-r8-2M16313252+2626003-57513.fits\n",
      "2475\n",
      "DNE: 404\n",
      "2570\n",
      "DNE: 404\n",
      "2665\n",
      "DNE: 404\n",
      "2760\n",
      "DNE: 404\n",
      "2855\n",
      "DNE: 404\n",
      "2950\n",
      "DNE: 404\n",
      "3045\n",
      "DNE: 404\n",
      "3140\n",
      "DNE: 404\n",
      "3235\n",
      "DNE: 404\n",
      "3330\n",
      "DNE: 404\n",
      "3425\n",
      "DNE: 404\n",
      "3520\n",
      "DNE: 404\n",
      "3615\n",
      "DNE: 404\n",
      "3710\n",
      "DNE: 404\n",
      "3805\n",
      "DNE: 404\n",
      "3900\n",
      "DNE: 404\n",
      "3995\n",
      "DNE: 404\n",
      "4090\n",
      "DNE: 404\n",
      "4185\n",
      "DNE: 404\n",
      "4280\n",
      "https://data.sdss.org/sas/dr14/apogee/spectro/redux/r8/stars/apo25m/4280/apStarLSF-r8-2M18394668-0746132.fits\n",
      "4375\n",
      "https://data.sdss.org/sas/dr14/apogee/spectro/redux/r8/stars/apo25m/4375/apStar-r8-2M18281504-1631170-56812.fits\n",
      "4470\n",
      "https://data.sdss.org/sas/dr14/apogee/spectro/redux/r8/stars/apo25m/4470/apStarLSF-r8-2M18520596-0808447.fits\n",
      "4565\n",
      "https://data.sdss.org/sas/dr14/apogee/spectro/redux/r8/stars/apo25m/4565/apStar-r8-2M06155217+2447549.fits\n",
      "4660\n",
      "DNE: 404\n",
      "4755\n",
      "DNE: 404\n",
      "4850\n",
      "DNE: 404\n",
      "4945\n",
      "DNE: 404\n",
      "5040\n",
      "https://data.sdss.org/sas/dr14/apogee/spectro/redux/r8/stars/apo25m/5040/apStar-r8-2M22440999+4512526.fits\n",
      "5135\n",
      "https://data.sdss.org/sas/dr14/apogee/spectro/redux/r8/stars/apo25m/5135/apStarLSF-r8-2M00493839-1307220-57377.fits\n",
      "11\n"
     ]
    }
   ],
   "source": [
    "import requests\n",
    "from bs4 import BeautifulSoup as soup\n",
    "from astropy.io import fits\n",
    "from astropy.table import Table\n",
    "import numpy as np\n",
    "from random import randint\n",
    "import math\n",
    "import os\n",
    "\n",
    "\n",
    "url = 'https://data.sdss.org/sas/dr14/apogee/spectro/redux/r8/stars/apo25m/' #APOGEE stars\n",
    "fits_dir = '/Users/TheBestKid/Desktop/Hubble/fits/' #Where the fits files go\n",
    "image_dir = '/Users/TheBestKid/Desktop/Hubble/images'\n",
    "\n",
    "try:\n",
    "    os.mkdir(fits_dir)\n",
    "except FileExistsError:\n",
    "    print('fits_dir exists')\n",
    "\n",
    "try:\n",
    "    os.mkdir(image_dir)\n",
    "except FileExistsError:\n",
    "    print('image_dir exists')\n",
    "#5203 - 2000 = 5417\n",
    "#5417 / 50 = 108.34 >>>>> 108\n",
    "\n",
    "#Scrape a fits page from the web and write contents to file\n",
    "def get_fits(page):\n",
    "    scraper = soup(view.text)\n",
    "    href = scraper.find_all('a')\n",
    "    rand = randint(7, len(href)-2)\n",
    "    star_link = href[rand]['href']\n",
    "    file_url = url + str(i) + '/' + star_link\n",
    "    print(file_url)\n",
    "\n",
    "    #get the .fits file\n",
    "    req = requests.get(file_url)\n",
    "    path = '/Users/TheBestKid/Desktop/Hubble/fits/' + str(i) + '_' + str(rand) + '.fits'\n",
    "\n",
    "    #write binary to local file\n",
    "    with open(path, 'wb+') as file:\n",
    "        file.write(req.content)\n",
    "        \n",
    "\n",
    "if (len(os.listdir(fits_dir)) <= 2):\n",
    "    for i in range(2000, 5203, 95):\n",
    "        print(i)\n",
    "        #Get the link\n",
    "        view = requests.get(url + str(i))\n",
    "\n",
    "        if not (view.status_code == 200):\n",
    "            print('DNE: ' + str(view.status_code))\n",
    "\n",
    "        else:\n",
    "            get_fits(view)\n",
    "else:\n",
    "    print(os.listdir('/Users/TheBestKid/Desktop/Hubble/fits/'))\n",
    "    \n",
    "    \n",
    "print(len(os.listdir('/Users/TheBestKid/Desktop/Hubble/fits/')))\n",
    "    #https://dr15.sdss.org/sas/dr15/eboss/spectro/redux/v5_10_0/spectra/3699/spec-3699-55517-0003.fits\n"
   ]
  },
  {
   "cell_type": "code",
   "execution_count": 118,
   "metadata": {
    "scrolled": true
   },
   "outputs": [
    {
     "data": {
      "text/html": [
       "<i>Table length=1</i>\n",
       "<table id=\"table4776877304\" class=\"table-striped table-bordered table-condensed\">\n",
       "<thead><tr><th>FILE [3]</th><th>FIBER [3]</th><th>PLATE [3]</th><th>MJD [3]</th><th>LOCID [3]</th><th>JD [3]</th><th>VREL [3]</th><th>VRELERR [3]</th><th>VHELIO [3]</th><th>BC [3]</th><th>BINARY [2]</th><th>STABLERV_CHI2 [2]</th><th>STABLERV_RCHI2 [2]</th><th>CHI2_THRESHOLD [2]</th><th>STABLERV_CHI2_PROB [2]</th><th>TEFF</th><th>LOGG</th><th>FEH</th><th>ALPHA</th><th>CARBON</th><th>CHISQ [3]</th><th>SYNTHVREL [3]</th><th>SYNTHVHELIO [3]</th><th>SYNTHVRELERR [3]</th><th>OBSVREL [3]</th><th>OBSVHELIO [3]</th><th>OBSVRELERR [3]</th><th>CCF [5,401]</th><th>CCFERR [5,401]</th><th>CCFLAG [401]</th><th>CCFW0</th><th>CCFDW</th><th>AUTOCF [401]</th></tr></thead>\n",
       "<thead><tr><th>bytes30</th><th>int16</th><th>bytes4</th><th>int32</th><th>int16</th><th>float64</th><th>float32</th><th>float32</th><th>float32</th><th>float32</th><th>int16</th><th>float32</th><th>float32</th><th>float32</th><th>float32</th><th>float32</th><th>float32</th><th>float32</th><th>float32</th><th>float32</th><th>float32</th><th>float32</th><th>float32</th><th>float32</th><th>float32</th><th>float32</th><th>float32</th><th>float32</th><th>float32</th><th>float32</th><th>float64</th><th>float64</th><th>float32</th></tr></thead>\n",
       "<tr><td>apVisit-r8-7957-57165-149.fits .. apVisit-r8-7957-57169-149.fits</td><td>149 .. 149</td><td>7957 .. 7957</td><td>57165 .. 57169</td><td>2000 .. 2000</td><td>2457165.9243 .. 2457169.89428</td><td>-48.441147 .. -44.811405</td><td>0.107161745 .. 0.048990007</td><td>-45.861805 .. -43.27343</td><td>2.5793405 .. 1.5379744</td><td>1 .. 1</td><td>740.5823 .. 1106.2156</td><td>19.24295 .. 23.518244</td><td>13.815598 .. 13.815598</td><td>0.0 .. 0.0</td><td>6250.0</td><td>5.0</td><td>0.5</td><td>0.0</td><td>0.0</td><td>1.5649955 .. 1.703001</td><td>-48.44425 .. -44.79012</td><td>-45.864906 .. -43.252144</td><td>0.102386884 .. 0.037788603</td><td>-48.432682 .. -44.66065</td><td>-45.85334 .. -43.122673</td><td>0.09006365 .. 0.037621994</td><td>-0.019868843 .. -0.052079756</td><td>0.0028110396 .. 0.0034483492</td><td>-200.0 .. 200.0</td><td>15100.801541641493</td><td>5.999999999950489e-06</td><td>-0.04174718 .. -0.04174718</td></tr>\n",
       "</table>"
      ],
      "text/plain": [
       "<Table length=1>\n",
       "                            FILE [3]                             ...\n",
       "                            bytes30                              ...\n",
       "---------------------------------------------------------------- ...\n",
       "apVisit-r8-7957-57165-149.fits .. apVisit-r8-7957-57169-149.fits ..."
      ]
     },
     "execution_count": 118,
     "metadata": {},
     "output_type": "execute_result"
    }
   ],
   "source": [
    "hdu = 1\n",
    "t = Table.read(fits_dir + os.listdir(fits_dir)[0], hdu=hdu) \n",
    "t"
   ]
  },
  {
   "cell_type": "code",
   "execution_count": 119,
   "metadata": {
    "scrolled": true
   },
   "outputs": [
    {
     "name": "stdout",
     "output_type": "stream",
     "text": [
      "0.0\n",
      "RA: 341.04164\n",
      "DEC: 45.214619\n"
     ]
    }
   ],
   "source": [
    "#Figure out fits format\n",
    "\n",
    "with fits.open(fits_dir + os.listdir(fits_dir)[10]) as file:\n",
    "    header = file[0].header\n",
    "    print(header['VRAD'])\n",
    "    print('RA: ' + str(header['RA']))\n",
    "    print('DEC: ' + str(header['DEC']))\n",
    "    \n",
    "    \n",
    "    "
   ]
  },
  {
   "cell_type": "code",
   "execution_count": 105,
   "metadata": {},
   "outputs": [],
   "source": [
    "def write_image(target): #target is the relevant fits file\n",
    "    ra = 0.0\n",
    "    dec = 0.0\n",
    "    try:\n",
    "        with fits.open(target) as file:\n",
    "            header = file[0].header\n",
    "            ra = header['RA']\n",
    "            dec = header['DEC']\n",
    "            print(ra, dec)\n",
    "    \n",
    "    \n",
    "        images = '/Users/TheBestKid/Desktop/Hubble/images_ra_dc.txt'\n",
    "        f = open(images, 'wt')\n",
    "        f.write(str(ra) + ', ' + str(dec))\n",
    "    except IsADirectoryError:\n",
    "        print('Not a file')\n",
    "    \n",
    "    \n",
    "    \n",
    "        "
   ]
  },
  {
   "cell_type": "code",
   "execution_count": 106,
   "metadata": {},
   "outputs": [
    {
     "name": "stdout",
     "output_type": "stream",
     "text": [
      "9.965768 27.79285\n",
      "156.802922 47.493148\n",
      "237.254435 29.1643\n",
      "8.001738 0.001221\n",
      "228.01532 15.054499\n",
      "215.45012 44.68867\n",
      "205.510323 61.67593\n",
      "119.777272 47.252139\n",
      "129.480213 34.791554\n",
      "32.929953 -2.275984\n",
      "236.663406 31.448139\n",
      "230.447415 51.262601\n",
      "135.636388 10.811369\n",
      "3.594141 9.048647\n",
      "140.012033 21.463328\n",
      "20.079178 1.98842\n",
      "228.691778 48.775534\n",
      "166.5611 56.071701\n",
      "164.264107 35.083612\n",
      "332.217351 29.607323\n",
      "228.437624 29.928094\n",
      "Not a file\n",
      "359.076875 12.492877\n",
      "172.703867 31.399089\n",
      "143.963889 51.440347\n",
      "328.817088 22.670136\n",
      "186.783804 34.808126\n",
      "202.016135 18.825643\n",
      "248.272853 19.808548\n",
      "30.224995 17.990156\n",
      "182.063019 9.778173\n",
      "249.652505 29.816811\n",
      "205.309134 42.579653\n",
      "179.242187 -1.624821\n"
     ]
    }
   ],
   "source": [
    "for file in os.listdir(fits_dir):\n",
    "    write_image(fits_dir + file)"
   ]
  },
  {
   "cell_type": "code",
   "execution_count": 24,
   "metadata": {},
   "outputs": [
    {
     "ename": "KeyError",
     "evalue": "\"Keyword 'R' not found.\"",
     "output_type": "error",
     "traceback": [
      "\u001b[0;31m---------------------------------------------------------------------------\u001b[0m",
      "\u001b[0;31mKeyError\u001b[0m                                  Traceback (most recent call last)",
      "\u001b[0;32m<ipython-input-24-873ff8faddde>\u001b[0m in \u001b[0;36m<module>\u001b[0;34m\u001b[0m\n\u001b[1;32m      5\u001b[0m     \u001b[0;32mtry\u001b[0m\u001b[0;34m:\u001b[0m\u001b[0;34m\u001b[0m\u001b[0m\n\u001b[1;32m      6\u001b[0m         \u001b[0;32mwith\u001b[0m \u001b[0mfits\u001b[0m\u001b[0;34m.\u001b[0m\u001b[0mopen\u001b[0m\u001b[0;34m(\u001b[0m\u001b[0;34m'/Users/TheBestKid/Desktop/Hubble/fits/'\u001b[0m \u001b[0;34m+\u001b[0m \u001b[0mfile\u001b[0m\u001b[0;34m)\u001b[0m \u001b[0;32mas\u001b[0m \u001b[0mstar\u001b[0m\u001b[0;34m:\u001b[0m\u001b[0;34m\u001b[0m\u001b[0m\n\u001b[0;32m----> 7\u001b[0;31m             \u001b[0mr_data\u001b[0m\u001b[0;34m.\u001b[0m\u001b[0mappend\u001b[0m\u001b[0;34m(\u001b[0m\u001b[0mstar\u001b[0m\u001b[0;34m[\u001b[0m\u001b[0;36m0\u001b[0m\u001b[0;34m]\u001b[0m\u001b[0;34m.\u001b[0m\u001b[0mheader\u001b[0m\u001b[0;34m[\u001b[0m\u001b[0;34m'r'\u001b[0m\u001b[0;34m]\u001b[0m\u001b[0;34m)\u001b[0m\u001b[0;34m\u001b[0m\u001b[0m\n\u001b[0m\u001b[1;32m      8\u001b[0m             \u001b[0mprint\u001b[0m\u001b[0;34m(\u001b[0m\u001b[0mlist\u001b[0m\u001b[0;34m(\u001b[0m\u001b[0mstar\u001b[0m\u001b[0;34m[\u001b[0m\u001b[0;36m0\u001b[0m\u001b[0;34m]\u001b[0m\u001b[0;34m.\u001b[0m\u001b[0mheader\u001b[0m\u001b[0;34m.\u001b[0m\u001b[0mkeys\u001b[0m\u001b[0;34m(\u001b[0m\u001b[0;34m)\u001b[0m\u001b[0;34m)\u001b[0m\u001b[0;34m)\u001b[0m\u001b[0;34m\u001b[0m\u001b[0m\n\u001b[1;32m      9\u001b[0m     \u001b[0;32mexcept\u001b[0m \u001b[0mIsADirectoryError\u001b[0m\u001b[0;34m:\u001b[0m\u001b[0;34m\u001b[0m\u001b[0m\n",
      "\u001b[0;32m/anaconda3/lib/python3.6/site-packages/astropy/io/fits/header.py\u001b[0m in \u001b[0;36m__getitem__\u001b[0;34m(self, key)\u001b[0m\n\u001b[1;32m    146\u001b[0m         \u001b[0;32melse\u001b[0m\u001b[0;34m:\u001b[0m\u001b[0;34m\u001b[0m\u001b[0m\n\u001b[1;32m    147\u001b[0m             \u001b[0mkeyword\u001b[0m \u001b[0;34m=\u001b[0m \u001b[0mkey\u001b[0m\u001b[0;34m\u001b[0m\u001b[0m\n\u001b[0;32m--> 148\u001b[0;31m         \u001b[0mcard\u001b[0m \u001b[0;34m=\u001b[0m \u001b[0mself\u001b[0m\u001b[0;34m.\u001b[0m\u001b[0m_cards\u001b[0m\u001b[0;34m[\u001b[0m\u001b[0mself\u001b[0m\u001b[0;34m.\u001b[0m\u001b[0m_cardindex\u001b[0m\u001b[0;34m(\u001b[0m\u001b[0mkey\u001b[0m\u001b[0;34m)\u001b[0m\u001b[0;34m]\u001b[0m\u001b[0;34m\u001b[0m\u001b[0m\n\u001b[0m\u001b[1;32m    149\u001b[0m         \u001b[0;32mif\u001b[0m \u001b[0mcard\u001b[0m\u001b[0;34m.\u001b[0m\u001b[0mfield_specifier\u001b[0m \u001b[0;32mis\u001b[0m \u001b[0;32mnot\u001b[0m \u001b[0;32mNone\u001b[0m \u001b[0;32mand\u001b[0m \u001b[0mkeyword\u001b[0m \u001b[0;34m==\u001b[0m \u001b[0mcard\u001b[0m\u001b[0;34m.\u001b[0m\u001b[0mrawkeyword\u001b[0m\u001b[0;34m:\u001b[0m\u001b[0;34m\u001b[0m\u001b[0m\n\u001b[1;32m    150\u001b[0m             \u001b[0;31m# This is RVKC; if only the top-level keyword was specified return\u001b[0m\u001b[0;34m\u001b[0m\u001b[0;34m\u001b[0m\u001b[0m\n",
      "\u001b[0;32m/anaconda3/lib/python3.6/site-packages/astropy/io/fits/header.py\u001b[0m in \u001b[0;36m_cardindex\u001b[0;34m(self, key)\u001b[0m\n\u001b[1;32m   1710\u001b[0m \u001b[0;34m\u001b[0m\u001b[0m\n\u001b[1;32m   1711\u001b[0m         \u001b[0;32mif\u001b[0m \u001b[0;32mnot\u001b[0m \u001b[0mindices\u001b[0m\u001b[0;34m:\u001b[0m\u001b[0;34m\u001b[0m\u001b[0m\n\u001b[0;32m-> 1712\u001b[0;31m             \u001b[0;32mraise\u001b[0m \u001b[0mKeyError\u001b[0m\u001b[0;34m(\u001b[0m\u001b[0;34m\"Keyword {!r} not found.\"\u001b[0m\u001b[0;34m.\u001b[0m\u001b[0mformat\u001b[0m\u001b[0;34m(\u001b[0m\u001b[0mkeyword\u001b[0m\u001b[0;34m)\u001b[0m\u001b[0;34m)\u001b[0m\u001b[0;34m\u001b[0m\u001b[0m\n\u001b[0m\u001b[1;32m   1713\u001b[0m \u001b[0;34m\u001b[0m\u001b[0m\n\u001b[1;32m   1714\u001b[0m         \u001b[0;32mtry\u001b[0m\u001b[0;34m:\u001b[0m\u001b[0;34m\u001b[0m\u001b[0m\n",
      "\u001b[0;31mKeyError\u001b[0m: \"Keyword 'R' not found.\""
     ]
    }
   ],
   "source": [
    "#retrieve r spectrums\n",
    "r_data = []\n",
    "\n",
    "for file in os.listdir('/Users/TheBestKid/Desktop/Hubble/fits/'):\n",
    "    try:\n",
    "        with fits.open('/Users/TheBestKid/Desktop/Hubble/fits/' + file) as star:\n",
    "            r_data.append(star[0].header['r'])\n",
    "            print(list(star[0].header.keys()))\n",
    "    except IsADirectoryError:\n",
    "        print('Unable to open')\n",
    "        \n",
    "    "
   ]
  },
  {
   "cell_type": "code",
   "execution_count": 11,
   "metadata": {},
   "outputs": [
    {
     "data": {
      "text/plain": [
       "[47.1237,\n",
       " 44.7158,\n",
       " 31.8241,\n",
       " 45.3822,\n",
       " 38.4633,\n",
       " 39.7592,\n",
       " 38.3341,\n",
       " 42.444,\n",
       " 45.7853,\n",
       " 28.7666,\n",
       " 36.6845,\n",
       " 30.3657,\n",
       " 34.1029,\n",
       " 42.3483,\n",
       " 39.8791,\n",
       " 43.7704,\n",
       " 32.1241,\n",
       " 31.595,\n",
       " 56.9231,\n",
       " 48.4052,\n",
       " 63.497,\n",
       " 45.6868,\n",
       " 44.7319,\n",
       " 35.2445,\n",
       " 43.8019,\n",
       " 36.292,\n",
       " 67.4987,\n",
       " 41.6033,\n",
       " 36.4233,\n",
       " 41.999,\n",
       " 37.8558,\n",
       " 44.1743,\n",
       " 32.7274]"
      ]
     },
     "execution_count": 11,
     "metadata": {},
     "output_type": "execute_result"
    }
   ],
   "source": [
    "r_data"
   ]
  },
  {
   "cell_type": "code",
   "execution_count": 64,
   "metadata": {},
   "outputs": [
    {
     "data": {
      "text/plain": [
       "[41.6399,\n",
       " 41.6399,\n",
       " 41.6399,\n",
       " 41.6399,\n",
       " 41.6399,\n",
       " 41.6399,\n",
       " 41.6399,\n",
       " 41.6399,\n",
       " 41.6399,\n",
       " 41.6399,\n",
       " 41.6399,\n",
       " 41.6399,\n",
       " 41.6399,\n",
       " 41.6399,\n",
       " 41.6399,\n",
       " 41.6399,\n",
       " 41.6399,\n",
       " 41.6399,\n",
       " 41.6399,\n",
       " 41.6399,\n",
       " 41.6399,\n",
       " 41.6399,\n",
       " 41.6399,\n",
       " 41.6399,\n",
       " 41.6399,\n",
       " 41.6399,\n",
       " 41.6399,\n",
       " 41.6399,\n",
       " 41.6399,\n",
       " 41.6399]"
      ]
     },
     "execution_count": 64,
     "metadata": {},
     "output_type": "execute_result"
    }
   ],
   "source": [
    "#calculate distance from r_data\n",
    "distances = []\n"
   ]
  },
  {
   "cell_type": "code",
   "execution_count": 109,
   "metadata": {
    "scrolled": true
   },
   "outputs": [
    {
     "name": "stdout",
     "output_type": "stream",
     "text": [
      "7671_209.fits\n",
      "7386_41.fits\n",
      "4726_828.fits\n",
      "3586_492.fits\n",
      "5486_491.fits\n",
      "6056_646.fits\n",
      "6816_377.fits\n",
      "3681_18.fits\n",
      "4441_650.fits\n",
      "4346_312.fits\n",
      "5011_74.fits\n",
      "apField-4224.fits\n",
      "6721_997.fits\n",
      "5296_562.fits\n",
      "4536_68.fits\n",
      "5771_301.fits\n",
      "7861_620.fits\n",
      "8431_156.fits\n",
      "7101_997.fits\n",
      "4631_404.fits\n",
      "5961_691.fits\n",
      "3871_899.fits\n",
      ".ipynb_checkpoints\n",
      "Permision Denied!\n",
      "6151_344.fits\n",
      "6436_36.fits\n",
      "7291_942.fits\n",
      "7576_346.fits\n",
      "3966_971.fits\n",
      "5866_143.fits\n",
      "4061_377.fits\n",
      "5106_609.fits\n",
      "5391_708.fits\n",
      "5201_440.fits\n",
      "6626_102.fits\n",
      "3776_216.fits\n"
     ]
    }
   ],
   "source": [
    "for file in os.listdir('/Users/TheBestKid/Desktop/Hubble/fits/'):\n",
    "    print(file)\n",
    "    try:\n",
    "        os.remove('/Users/TheBestKid/Desktop/Hubble/fits/' + file)\n",
    "    except PermissionError:\n",
    "        print('Permision Denied!')"
   ]
  },
  {
   "cell_type": "code",
   "execution_count": null,
   "metadata": {},
   "outputs": [],
   "source": []
  }
 ],
 "metadata": {
  "kernelspec": {
   "display_name": "Python 3",
   "language": "python",
   "name": "python3"
  },
  "language_info": {
   "codemirror_mode": {
    "name": "ipython",
    "version": 3
   },
   "file_extension": ".py",
   "mimetype": "text/x-python",
   "name": "python",
   "nbconvert_exporter": "python",
   "pygments_lexer": "ipython3",
   "version": "3.6.5"
  }
 },
 "nbformat": 4,
 "nbformat_minor": 2
}
